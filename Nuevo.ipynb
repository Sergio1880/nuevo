{
  "nbformat": 4,
  "nbformat_minor": 0,
  "metadata": {
    "colab": {
      "provenance": [],
      "authorship_tag": "ABX9TyPFROeGeyJq/MoBO1iAVkgn",
      "include_colab_link": true
    },
    "kernelspec": {
      "name": "python3",
      "display_name": "Python 3"
    },
    "language_info": {
      "name": "python"
    }
  },
  "cells": [
    {
      "cell_type": "markdown",
      "metadata": {
        "id": "view-in-github",
        "colab_type": "text"
      },
      "source": [
        "<a href=\"https://colab.research.google.com/github/Sergio1880/nuevo/blob/main/Nuevo.ipynb\" target=\"_parent\"><img src=\"https://colab.research.google.com/assets/colab-badge.svg\" alt=\"Open In Colab\"/></a>"
      ]
    },
    {
      "cell_type": "code",
      "source": [
        "print(\"Hola Mundo\")\n",
        "\n",
        "\n",
        "\n",
        "numero=int(input(\"Ingrese Numero:\"))\n",
        "if numero==0 :\n",
        "  print(\"El numero es 0\")\n",
        "else :\n",
        "  print(\"El numero no es 0\")\n",
        "\n",
        "def suma(x,y):\n",
        "  resultado=x+y\n",
        "  return resultado\n",
        "\n",
        "\n",
        "\n",
        "\n",
        "\n",
        "\n",
        "\n",
        "\n",
        "\n",
        "\n",
        "\n",
        "\n",
        "\n"
      ],
      "metadata": {
        "id": "PrpN5zPfa1T2"
      },
      "execution_count": null,
      "outputs": []
    }
  ]
}